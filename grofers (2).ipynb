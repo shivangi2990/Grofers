{
 "cells": [
  {
   "cell_type": "code",
   "execution_count": 2,
   "source": [
    "!pip install autoscraper"
   ],
   "outputs": [
    {
     "output_type": "stream",
     "name": "stdout",
     "text": [
      "Requirement already satisfied: autoscraper in c:\\users\\win10\\anaconda3\\envs\\myenv\\lib\\site-packages (1.1.12)\n",
      "Requirement already satisfied: lxml in c:\\users\\win10\\anaconda3\\envs\\myenv\\lib\\site-packages (from autoscraper) (4.6.3)\n",
      "Requirement already satisfied: requests in c:\\users\\win10\\anaconda3\\envs\\myenv\\lib\\site-packages (from autoscraper) (2.25.1)\n",
      "Requirement already satisfied: bs4 in c:\\users\\win10\\anaconda3\\envs\\myenv\\lib\\site-packages (from autoscraper) (0.0.1)\n",
      "Requirement already satisfied: beautifulsoup4 in c:\\users\\win10\\anaconda3\\envs\\myenv\\lib\\site-packages (from bs4->autoscraper) (4.9.3)\n",
      "Requirement already satisfied: soupsieve>1.2 in c:\\users\\win10\\anaconda3\\envs\\myenv\\lib\\site-packages (from beautifulsoup4->bs4->autoscraper) (2.2.1)\n",
      "Requirement already satisfied: idna<3,>=2.5 in c:\\users\\win10\\anaconda3\\envs\\myenv\\lib\\site-packages (from requests->autoscraper) (2.10)\n",
      "Requirement already satisfied: certifi>=2017.4.17 in c:\\users\\win10\\anaconda3\\envs\\myenv\\lib\\site-packages (from requests->autoscraper) (2020.12.5)\n",
      "Requirement already satisfied: urllib3<1.27,>=1.21.1 in c:\\users\\win10\\anaconda3\\envs\\myenv\\lib\\site-packages (from requests->autoscraper) (1.26.4)\n",
      "Requirement already satisfied: chardet<5,>=3.0.2 in c:\\users\\win10\\anaconda3\\envs\\myenv\\lib\\site-packages (from requests->autoscraper) (3.0.4)\n"
     ]
    }
   ],
   "metadata": {}
  },
  {
   "cell_type": "code",
   "execution_count": 1,
   "source": [
    "from autoscraper import AutoScraper"
   ],
   "outputs": [],
   "metadata": {}
  },
  {
   "cell_type": "code",
   "execution_count": 2,
   "source": [
    "import csv"
   ],
   "outputs": [],
   "metadata": {}
  },
  {
   "cell_type": "code",
   "execution_count": 3,
   "source": [
    "import pandas as pd"
   ],
   "outputs": [],
   "metadata": {}
  },
  {
   "cell_type": "code",
   "execution_count": 4,
   "source": [
    "grofers_url=\"https://grofers.com/s/?q=tide+washing+powder&suggestion_type=0&t=1\"\r\n",
    "\r\n",
    "wanted_list=[\"₹57\",\"Active Wheel 2 in 1 Clean & Fresh Detergent Powder\"]"
   ],
   "outputs": [],
   "metadata": {}
  },
  {
   "cell_type": "code",
   "execution_count": 5,
   "source": [
    "scraper=AutoScraper()\r\n",
    "result=scraper.build(grofers_url,wanted_list)\r\n",
    "print(result)"
   ],
   "outputs": [
    {
     "output_type": "stream",
     "name": "stdout",
     "text": [
      "['₹714', '₹485', '₹104', '₹215', '₹420', '₹652', '₹399', '₹349', '₹380', '₹299', '₹159', '₹53', '₹481', '₹57', '₹85', '₹350', '₹190', '₹149', '₹29', '₹531', '₹792', '₹670', '₹760', '₹69', '₹620', '₹920', '₹185', '₹155', '₹219', '₹372', '₹160', '₹550', '₹342', '₹427', '₹300', '₹389', '₹504', '₹360', '₹991', '₹78', '₹74', '₹44', '₹10', '₹714₹ 870', '₹652₹ 749', '₹399₹ 550', '₹380₹ 480', '₹299₹ 480', '₹159₹ 174', '₹53₹ 55', '₹481₹ 545', '₹85₹ 88', '₹350₹ 540', '₹149₹ 190', '₹531₹ 1160', '₹792₹ 1050', '₹670₹ 810', '₹760₹ 960', '₹69₹ 106', '₹620₹ 720', '₹920₹ 1150', '₹185₹ 369', '₹155₹ 165', '₹219₹ 270', '₹372₹ 465', '₹160₹ 230', '₹550₹ 600', '₹342₹ 455', '₹427₹ 449', '₹300₹ 374', '₹389₹ 432', '₹504₹ 530', '₹300₹ 530', '₹360₹ 570', '₹991₹ 2320', '₹57₹ 67', '₹78₹ 92', '₹74₹ 99', 'Tide Plus Extra Power (Jasmine & Rose) - 7 kg Detergent Powder - with Free Detergent Powder - 3 kg', 'Tide Plus Extra Power Washing Detergent Powder - 4 kg (Lemon and Mint) with Free Detergent Powder - 1 kg', 'Tide Plus Double Power Lemon & Mint Detergent Powder', 'Tide Plus Extra Power Jasmine & Rose Detergent Powder', 'Tide Ultra 3 in 1 Clean Detergent Powder - Get 1 kg Free', 'Tide Plus Extra Power Lemon & Mint Detergent Powder', 'Tide Plus Double Power Jasmine & Rose Detergent Powder', 'Tide Plus Double Power Lemon & Mint Detergent Powder - Get 2 kg Free', 'Power Brite Jasmine & Rose 6 kg Detergent Powder', 'Tide Ultra Anti-Germ Detergent Washing Powder - 1kg FREE', 'Surf Excel Easy Wash Detergent Powder', 'Surf Excel Matic Top Load Detergent Powder', 'Ghadi Detergent Powder', 'SaveMore Detergent Powder', 'Rin Detergent Powder', 'Active Wheel 2 in 1 Clean & Fresh Detergent Powder', 'Ghadi Machine Wash Detergent Powder', 'Surf Excel Matic Front Load Detergent Powder', 'Surf Excel Quick Wash Detergent Powder', 'Grofers Happy Home Stain Buster Detergent Powder', 'Active Wheel Lemon & Jasmine Detergent Powder', 'Ariel Complete Detergent Powder', 'Ariel Matic Top Load Detergent Powder - Buy 4 kg Get 2 kg Free - Brand Offer', 'Surf Excel Matic Front Load Detergent Powder (Carton) - Free 1 kg - Brand Offer', 'Surf Excel Easy Wash Detergent Powder - Pack of 2', 'Power Brite Jasmine & Rose 1 kg Detergent Powder', 'Surf Excel Matic Top Load Detergent Powder (Carton) - Free 1 kg - Brand Offer', 'Ariel Matic Front Load Detergent Powder - Buy 4 kg Get 2 kg Free - Brand Offer', 'More Light Extra Power Detergent Powder', 'SaveMore Detergent Powder - Pack of 3', 'Mr. White Ultimate whiteness Detergent Powder - Buy 3 kg Get 1 kg Free - Brand Offer', 'Mr. White Ultimate whiteness Detergent Powder - Free 2 kg- Brand Offer', 'Again Detergent Powder (Packet)', 'Surf Excel Quick Wash Detergent Powder - Free 1 kg - Brand Offer', 'Henko Matic Lintelligent Front Load Detergent Powder', 'Ariel Matic Top Load Detergent Powder', 'Henko Matic Top Load Detergent Powder', 'Ariel Matic 3In1 Pods Detergent Powder', 'Ariel Matic Front Load Detergent Powder', 'Stain Buster Matic Front Load Detergent Powder', 'Grofers Happy Home Stain Buster Detergent Powder - Pack of 3', 'Ariel Complete Detergent Powder - Pack of 2', 'Catch Coriander Powder/Dhania', 'Catch Red Chilli Powder', 'MDH Deggi Red Chilli Powder', 'Candid Pricky Heat Powder (Bottle)', 'Vim Lemon Dishwash Bar - Pack of 3 - Brand Offer', 'G Fresh Green Chilli']\n"
     ]
    }
   ],
   "metadata": {}
  },
  {
   "cell_type": "code",
   "execution_count": 6,
   "source": [
    "scraper.get_result_similar(grofers_url,grouped=True)"
   ],
   "outputs": [
    {
     "output_type": "execute_result",
     "data": {
      "text/plain": [
       "{'rule_8vva': ['₹714',\n",
       "  '₹485',\n",
       "  '₹104',\n",
       "  '₹215',\n",
       "  '₹420',\n",
       "  '₹215',\n",
       "  '₹104',\n",
       "  '₹652',\n",
       "  '₹399',\n",
       "  '₹349',\n",
       "  '₹380',\n",
       "  '₹299',\n",
       "  '₹159',\n",
       "  '₹53',\n",
       "  '₹481',\n",
       "  '₹57',\n",
       "  '₹85',\n",
       "  '₹350',\n",
       "  '₹190',\n",
       "  '₹149',\n",
       "  '₹29',\n",
       "  '₹531',\n",
       "  '₹792',\n",
       "  '₹670',\n",
       "  '₹760',\n",
       "  '₹69',\n",
       "  '₹620',\n",
       "  '₹920',\n",
       "  '₹185',\n",
       "  '₹155',\n",
       "  '₹219',\n",
       "  '₹372',\n",
       "  '₹160',\n",
       "  '₹550',\n",
       "  '₹342',\n",
       "  '₹427',\n",
       "  '₹300',\n",
       "  '₹389',\n",
       "  '₹504',\n",
       "  '₹300',\n",
       "  '₹360',\n",
       "  '₹991',\n",
       "  '₹57',\n",
       "  '₹78',\n",
       "  '₹78',\n",
       "  '₹74',\n",
       "  '₹44',\n",
       "  '₹10'],\n",
       " 'rule_irpw': ['₹714₹ 870',\n",
       "  '₹485',\n",
       "  '₹104',\n",
       "  '₹215',\n",
       "  '₹420',\n",
       "  '₹215',\n",
       "  '₹104',\n",
       "  '₹652₹ 749',\n",
       "  '₹399₹ 550',\n",
       "  '₹349',\n",
       "  '₹380₹ 480',\n",
       "  '₹299₹ 480',\n",
       "  '₹159₹ 174',\n",
       "  '₹53₹ 55',\n",
       "  '₹481₹ 545',\n",
       "  '₹57',\n",
       "  '₹85₹ 88',\n",
       "  '₹350₹ 540',\n",
       "  '₹190',\n",
       "  '₹149₹ 190',\n",
       "  '₹29',\n",
       "  '₹531₹ 1160',\n",
       "  '₹792₹ 1050',\n",
       "  '₹670₹ 810',\n",
       "  '₹760₹ 960',\n",
       "  '₹69₹ 106',\n",
       "  '₹620₹ 720',\n",
       "  '₹920₹ 1150',\n",
       "  '₹185₹ 369',\n",
       "  '₹155₹ 165',\n",
       "  '₹219₹ 270',\n",
       "  '₹372₹ 465',\n",
       "  '₹160₹ 230',\n",
       "  '₹550₹ 600',\n",
       "  '₹342₹ 455',\n",
       "  '₹427₹ 449',\n",
       "  '₹300₹ 374',\n",
       "  '₹389₹ 432',\n",
       "  '₹504₹ 530',\n",
       "  '₹300₹ 530',\n",
       "  '₹360₹ 570',\n",
       "  '₹991₹ 2320',\n",
       "  '₹57₹ 67',\n",
       "  '₹78₹ 92',\n",
       "  '₹78',\n",
       "  '₹74₹ 99',\n",
       "  '₹44',\n",
       "  '₹10'],\n",
       " 'rule_ty5r': ['Tide Plus Extra Power (Jasmine & Rose) - 7 kg Detergent Powder - with Free Detergent Powder - 3 kg',\n",
       "  'Tide Plus Extra Power Washing Detergent Powder - 4 kg (Lemon and Mint) with Free Detergent Powder - 1 kg',\n",
       "  'Tide Plus Double Power Lemon & Mint Detergent Powder',\n",
       "  'Tide Plus Extra Power Jasmine & Rose Detergent Powder',\n",
       "  'Tide Ultra 3 in 1 Clean Detergent Powder - Get 1 kg Free',\n",
       "  'Tide Plus Extra Power Lemon & Mint Detergent Powder',\n",
       "  'Tide Plus Double Power Jasmine & Rose Detergent Powder',\n",
       "  'Tide Plus Double Power Lemon & Mint Detergent Powder - Get 2 kg Free',\n",
       "  'Power Brite Jasmine & Rose 6 kg Detergent Powder',\n",
       "  'Tide Ultra Anti-Germ Detergent Washing Powder - 1kg FREE',\n",
       "  'Surf Excel Easy Wash Detergent Powder',\n",
       "  'Surf Excel Matic Top Load Detergent Powder',\n",
       "  'Ghadi Detergent Powder',\n",
       "  'SaveMore Detergent Powder',\n",
       "  'Rin Detergent Powder',\n",
       "  'Active Wheel 2 in 1 Clean & Fresh Detergent Powder',\n",
       "  'Ghadi Machine Wash Detergent Powder',\n",
       "  'Surf Excel Matic Front Load Detergent Powder',\n",
       "  'Surf Excel Quick Wash Detergent Powder',\n",
       "  'Grofers Happy Home Stain Buster Detergent Powder',\n",
       "  'Active Wheel Lemon & Jasmine Detergent Powder',\n",
       "  'Ariel Complete Detergent Powder',\n",
       "  'Ariel Matic Top Load Detergent Powder - Buy 4 kg Get 2 kg Free - Brand Offer',\n",
       "  'Surf Excel Matic Front Load Detergent Powder (Carton) - Free 1 kg - Brand Offer',\n",
       "  'Surf Excel Easy Wash Detergent Powder - Pack of 2',\n",
       "  'Power Brite Jasmine & Rose 1 kg Detergent Powder',\n",
       "  'Surf Excel Matic Top Load Detergent Powder (Carton) - Free 1 kg - Brand Offer',\n",
       "  'Ariel Matic Front Load Detergent Powder - Buy 4 kg Get 2 kg Free - Brand Offer',\n",
       "  'More Light Extra Power Detergent Powder',\n",
       "  'SaveMore Detergent Powder - Pack of 3',\n",
       "  'Mr. White Ultimate whiteness Detergent Powder - Buy 3 kg Get 1 kg Free - Brand Offer',\n",
       "  'Mr. White Ultimate whiteness Detergent Powder - Free 2 kg- Brand Offer',\n",
       "  'Again Detergent Powder (Packet)',\n",
       "  'Surf Excel Quick Wash Detergent Powder - Free 1 kg - Brand Offer',\n",
       "  'Henko Matic Lintelligent Front Load Detergent Powder',\n",
       "  'Ariel Matic Top Load Detergent Powder',\n",
       "  'Henko Matic Top Load Detergent Powder',\n",
       "  'Ariel Matic 3In1 Pods Detergent Powder',\n",
       "  'Ariel Matic Front Load Detergent Powder',\n",
       "  'Stain Buster Matic Front Load Detergent Powder',\n",
       "  'Grofers Happy Home Stain Buster Detergent Powder - Pack of 3',\n",
       "  'Ariel Complete Detergent Powder - Pack of 2',\n",
       "  'Catch Coriander Powder/Dhania',\n",
       "  'Catch Red Chilli Powder',\n",
       "  'MDH Deggi Red Chilli Powder',\n",
       "  'Candid Pricky Heat Powder (Bottle)',\n",
       "  'Vim Lemon Dishwash Bar - Pack of 3 - Brand Offer',\n",
       "  'G Fresh Green Chilli'],\n",
       " 'rule_6mug': ['Tide Plus Extra Power (Jasmine & Rose) - 7 kg Detergent Powder - with Free Detergent Powder - 3 kg',\n",
       "  'Tide Plus Extra Power Washing Detergent Powder - 4 kg (Lemon and Mint) with Free Detergent Powder - 1 kg',\n",
       "  'Tide Plus Double Power Lemon & Mint Detergent Powder',\n",
       "  'Tide Plus Extra Power Jasmine & Rose Detergent Powder',\n",
       "  'Tide Ultra 3 in 1 Clean Detergent Powder - Get 1 kg Free',\n",
       "  'Tide Plus Extra Power Lemon & Mint Detergent Powder',\n",
       "  'Tide Plus Double Power Jasmine & Rose Detergent Powder',\n",
       "  'Tide Plus Double Power Lemon & Mint Detergent Powder - Get 2 kg Free',\n",
       "  'Power Brite Jasmine & Rose 6 kg Detergent Powder',\n",
       "  'Tide Ultra Anti-Germ Detergent Washing Powder - 1kg FREE',\n",
       "  'Surf Excel Easy Wash Detergent Powder',\n",
       "  'Surf Excel Matic Top Load Detergent Powder',\n",
       "  'Ghadi Detergent Powder',\n",
       "  'SaveMore Detergent Powder',\n",
       "  'Rin Detergent Powder',\n",
       "  'Active Wheel 2 in 1 Clean & Fresh Detergent Powder',\n",
       "  'Ghadi Machine Wash Detergent Powder',\n",
       "  'Surf Excel Matic Front Load Detergent Powder',\n",
       "  'Surf Excel Quick Wash Detergent Powder',\n",
       "  'Grofers Happy Home Stain Buster Detergent Powder',\n",
       "  'Active Wheel Lemon & Jasmine Detergent Powder',\n",
       "  'Ariel Complete Detergent Powder',\n",
       "  'Ariel Matic Top Load Detergent Powder - Buy 4 kg Get 2 kg Free - Brand Offer',\n",
       "  'Surf Excel Matic Front Load Detergent Powder (Carton) - Free 1 kg - Brand Offer',\n",
       "  'Surf Excel Easy Wash Detergent Powder - Pack of 2',\n",
       "  'Power Brite Jasmine & Rose 1 kg Detergent Powder',\n",
       "  'Surf Excel Matic Top Load Detergent Powder (Carton) - Free 1 kg - Brand Offer',\n",
       "  'Ariel Matic Front Load Detergent Powder - Buy 4 kg Get 2 kg Free - Brand Offer',\n",
       "  'More Light Extra Power Detergent Powder',\n",
       "  'SaveMore Detergent Powder - Pack of 3',\n",
       "  'Mr. White Ultimate whiteness Detergent Powder - Buy 3 kg Get 1 kg Free - Brand Offer',\n",
       "  'Mr. White Ultimate whiteness Detergent Powder - Free 2 kg- Brand Offer',\n",
       "  'Again Detergent Powder (Packet)',\n",
       "  'Surf Excel Quick Wash Detergent Powder - Free 1 kg - Brand Offer',\n",
       "  'Henko Matic Lintelligent Front Load Detergent Powder',\n",
       "  'Ariel Matic Top Load Detergent Powder',\n",
       "  'Henko Matic Top Load Detergent Powder',\n",
       "  'Ariel Matic 3In1 Pods Detergent Powder',\n",
       "  'Ariel Matic Front Load Detergent Powder',\n",
       "  'Stain Buster Matic Front Load Detergent Powder',\n",
       "  'Grofers Happy Home Stain Buster Detergent Powder - Pack of 3',\n",
       "  'Ariel Complete Detergent Powder - Pack of 2',\n",
       "  'Catch Coriander Powder/Dhania',\n",
       "  'Catch Red Chilli Powder',\n",
       "  'MDH Deggi Red Chilli Powder',\n",
       "  'Candid Pricky Heat Powder (Bottle)',\n",
       "  'Vim Lemon Dishwash Bar - Pack of 3 - Brand Offer',\n",
       "  'G Fresh Green Chilli']}"
      ]
     },
     "metadata": {},
     "execution_count": 6
    }
   ],
   "metadata": {}
  },
  {
   "cell_type": "code",
   "execution_count": 8,
   "source": [
    "scraper.set_rule_aliases({'rule_ty5r':'Title','rule_8vva':'Price'})\r\n",
    "scraper.keep_rules(['rule_ty5r','rule_8vva'])\r\n",
    "scraper.save('grofers-search')"
   ],
   "outputs": [],
   "metadata": {}
  },
  {
   "cell_type": "code",
   "execution_count": 9,
   "source": [
    "search_term = input(\"enter your product\")"
   ],
   "outputs": [],
   "metadata": {}
  },
  {
   "cell_type": "code",
   "execution_count": 10,
   "source": [
    "template = 'https://grofers.com/s/?q={}&suggestion_type=0&t=1'\r\n",
    "search_term = search_term.replace(' ','+')\r\n",
    "url = template.format(search_term)\r\n",
    "url += '&page{}'"
   ],
   "outputs": [],
   "metadata": {}
  },
  {
   "cell_type": "code",
   "execution_count": 11,
   "source": [
    "results=scraper.get_result_similar(url,group_by_alias=True)"
   ],
   "outputs": [],
   "metadata": {}
  },
  {
   "cell_type": "code",
   "execution_count": 12,
   "source": [
    "results['Price']"
   ],
   "outputs": [
    {
     "output_type": "execute_result",
     "data": {
      "text/plain": [
       "['₹59',\n",
       " '₹40',\n",
       " '₹45',\n",
       " '₹60',\n",
       " '₹75',\n",
       " '₹20',\n",
       " '₹54',\n",
       " '₹60',\n",
       " '₹48',\n",
       " '₹80',\n",
       " '₹96',\n",
       " '₹54',\n",
       " '₹51',\n",
       " '₹59',\n",
       " '₹144',\n",
       " '₹113',\n",
       " '₹81',\n",
       " '₹27',\n",
       " '₹58',\n",
       " '₹29',\n",
       " '₹30',\n",
       " '₹30',\n",
       " '₹21',\n",
       " '₹138',\n",
       " '₹71',\n",
       " '₹100',\n",
       " '₹45',\n",
       " '₹21',\n",
       " '₹96',\n",
       " '₹54',\n",
       " '₹50',\n",
       " '₹85',\n",
       " '₹30',\n",
       " '₹54',\n",
       " '₹21',\n",
       " '₹83',\n",
       " '₹91',\n",
       " '₹21',\n",
       " '₹120',\n",
       " '₹83',\n",
       " '₹75',\n",
       " '₹83',\n",
       " '₹39',\n",
       " '₹30',\n",
       " '₹75',\n",
       " '₹30',\n",
       " '₹48',\n",
       " '₹100']"
      ]
     },
     "metadata": {},
     "execution_count": 12
    }
   ],
   "metadata": {}
  },
  {
   "cell_type": "code",
   "execution_count": 13,
   "source": [
    "results['Title']"
   ],
   "outputs": [
    {
     "output_type": "execute_result",
     "data": {
      "text/plain": [
       "['Cadbury Oreo Vanilla Creme Family Pack Biscuit',\n",
       " 'Britannia Nice Time Coconut Biscuit - Pack of 2',\n",
       " 'Parle Marie Biscuit - Pack of 2',\n",
       " 'Dukes Bourbon Biscuit - Buy 2 Get 2 Free',\n",
       " 'Parle-G Original Gluco Biscuit',\n",
       " 'Britannia Milk Bikis Biscuit',\n",
       " 'Sunfeast Bounce Tangy Orange Biscuit - Pack of 6',\n",
       " 'Britannia Treat Jim Jam Biscuit - Pack of 2',\n",
       " 'Britannia Bourbon The Original Biscuit - Pack of 2',\n",
       " 'Britannia Bourbon The Original Biscuit - Buy 4 Get 1 Free - Brand Offer',\n",
       " 'Parle Monaco Classic Regular Biscuit',\n",
       " 'Parle Krackjack Original Sweet & Salty Biscuit',\n",
       " 'Britannia Milk Bikis Biscuit (Pouch)',\n",
       " 'Cadbury Oreo Choco Creme Family Pack Biscuit',\n",
       " 'Britannia NutriChoice Digestive High Fibre Biscuit - 1Kg Super Saver Family pack',\n",
       " 'Parle-G Gold Glucose 1 kg Biscuit',\n",
       " 'Britannia Milk Bikis Milk Cream Biscuit - Pack of 2',\n",
       " \"McVitie's Digestive Biscuit - Pack of 2\",\n",
       " 'Britannia Marie Gold Biscuit - Pack of 2',\n",
       " 'Sunfeast Dark Fantasy Choco Creme Biscuit (Pouch)',\n",
       " 'Oreo Strawberry Creme Biscuit',\n",
       " 'Oreo Original Vanilla Creme Biscuit',\n",
       " 'Dukes Bourbon Biscuit',\n",
       " \"McVitie's Digestive Biscuit\",\n",
       " 'Britannia Pure Magic Chocolush Cookies- Choco filled Biscuit',\n",
       " 'Britannia Treat Jim Jam Biscuit - Buy 4 Get 1 Free - Brand Offer',\n",
       " 'Sunfeast Marie Light Active Biscuit - Pack of 2',\n",
       " 'Dukes Creme 4 Fun Orange Biscuit',\n",
       " 'Britannia Marie Gold Biscuit',\n",
       " 'Sunfeast Bounce Tasty Choco Creme Biscuit - Pack of 6',\n",
       " 'Sunfeast Dark Fantasy Vanilla Creme Biscuit (Pouch)',\n",
       " 'Sunfeast Marie Light Active Biscuit',\n",
       " 'Oreo Choco Creme Biscuit',\n",
       " 'Sunfeast Bourbon Bliss Biscuit - Pack of 2',\n",
       " 'Dukes Cream 4 Fun Chocolate Biscuit',\n",
       " 'Oreo Choco Creme Biscuit - Pack of 3',\n",
       " 'Cadbury Oreo Original Vanilla Creme Biscuit - Jumbo Pack',\n",
       " 'Grofers Happy Day Sweet & Salty Biscuit',\n",
       " 'Parle Monaco Cheeslings Classic Biscuit (Jar)',\n",
       " 'Oreo Strawberry Creme Biscuit - Pack of 3',\n",
       " 'Parle Platina Hide & Seek Black Bourbon Choco Biscuit',\n",
       " 'Oreo Original Vanilla Creme Biscuit - Pack of 3',\n",
       " 'Grofers Happy Day Sweet & Salty Biscuit - Pack of 2',\n",
       " 'Parle Platina Hide & Seek Black Bourbon Vanilla 100 g Biscuit',\n",
       " 'Parle Platina Hide & Seek Black Bourbon Vanilla 300 g Biscuit',\n",
       " 'Dukes Cream 4 Fun Chocolate Biscuit - Buy 1 Get 1 Free',\n",
       " 'Cadbury Chocobakes Choc Filled (Biscuits) Cookie - Family Pack',\n",
       " 'Sunfeast Dark Fantasy Biscuit - Choco Fills Cookie']"
      ]
     },
     "metadata": {},
     "execution_count": 13
    }
   ],
   "metadata": {}
  },
  {
   "cell_type": "code",
   "execution_count": 14,
   "source": [
    "results"
   ],
   "outputs": [
    {
     "output_type": "execute_result",
     "data": {
      "text/plain": [
       "{'Price': ['₹59',\n",
       "  '₹40',\n",
       "  '₹45',\n",
       "  '₹60',\n",
       "  '₹75',\n",
       "  '₹20',\n",
       "  '₹54',\n",
       "  '₹60',\n",
       "  '₹48',\n",
       "  '₹80',\n",
       "  '₹96',\n",
       "  '₹54',\n",
       "  '₹51',\n",
       "  '₹59',\n",
       "  '₹144',\n",
       "  '₹113',\n",
       "  '₹81',\n",
       "  '₹27',\n",
       "  '₹58',\n",
       "  '₹29',\n",
       "  '₹30',\n",
       "  '₹30',\n",
       "  '₹21',\n",
       "  '₹138',\n",
       "  '₹71',\n",
       "  '₹100',\n",
       "  '₹45',\n",
       "  '₹21',\n",
       "  '₹96',\n",
       "  '₹54',\n",
       "  '₹50',\n",
       "  '₹85',\n",
       "  '₹30',\n",
       "  '₹54',\n",
       "  '₹21',\n",
       "  '₹83',\n",
       "  '₹91',\n",
       "  '₹21',\n",
       "  '₹120',\n",
       "  '₹83',\n",
       "  '₹75',\n",
       "  '₹83',\n",
       "  '₹39',\n",
       "  '₹30',\n",
       "  '₹75',\n",
       "  '₹30',\n",
       "  '₹48',\n",
       "  '₹100'],\n",
       " 'Title': ['Cadbury Oreo Vanilla Creme Family Pack Biscuit',\n",
       "  'Britannia Nice Time Coconut Biscuit - Pack of 2',\n",
       "  'Parle Marie Biscuit - Pack of 2',\n",
       "  'Dukes Bourbon Biscuit - Buy 2 Get 2 Free',\n",
       "  'Parle-G Original Gluco Biscuit',\n",
       "  'Britannia Milk Bikis Biscuit',\n",
       "  'Sunfeast Bounce Tangy Orange Biscuit - Pack of 6',\n",
       "  'Britannia Treat Jim Jam Biscuit - Pack of 2',\n",
       "  'Britannia Bourbon The Original Biscuit - Pack of 2',\n",
       "  'Britannia Bourbon The Original Biscuit - Buy 4 Get 1 Free - Brand Offer',\n",
       "  'Parle Monaco Classic Regular Biscuit',\n",
       "  'Parle Krackjack Original Sweet & Salty Biscuit',\n",
       "  'Britannia Milk Bikis Biscuit (Pouch)',\n",
       "  'Cadbury Oreo Choco Creme Family Pack Biscuit',\n",
       "  'Britannia NutriChoice Digestive High Fibre Biscuit - 1Kg Super Saver Family pack',\n",
       "  'Parle-G Gold Glucose 1 kg Biscuit',\n",
       "  'Britannia Milk Bikis Milk Cream Biscuit - Pack of 2',\n",
       "  \"McVitie's Digestive Biscuit - Pack of 2\",\n",
       "  'Britannia Marie Gold Biscuit - Pack of 2',\n",
       "  'Sunfeast Dark Fantasy Choco Creme Biscuit (Pouch)',\n",
       "  'Oreo Strawberry Creme Biscuit',\n",
       "  'Oreo Original Vanilla Creme Biscuit',\n",
       "  'Dukes Bourbon Biscuit',\n",
       "  \"McVitie's Digestive Biscuit\",\n",
       "  'Britannia Pure Magic Chocolush Cookies- Choco filled Biscuit',\n",
       "  'Britannia Treat Jim Jam Biscuit - Buy 4 Get 1 Free - Brand Offer',\n",
       "  'Sunfeast Marie Light Active Biscuit - Pack of 2',\n",
       "  'Dukes Creme 4 Fun Orange Biscuit',\n",
       "  'Britannia Marie Gold Biscuit',\n",
       "  'Sunfeast Bounce Tasty Choco Creme Biscuit - Pack of 6',\n",
       "  'Sunfeast Dark Fantasy Vanilla Creme Biscuit (Pouch)',\n",
       "  'Sunfeast Marie Light Active Biscuit',\n",
       "  'Oreo Choco Creme Biscuit',\n",
       "  'Sunfeast Bourbon Bliss Biscuit - Pack of 2',\n",
       "  'Dukes Cream 4 Fun Chocolate Biscuit',\n",
       "  'Oreo Choco Creme Biscuit - Pack of 3',\n",
       "  'Cadbury Oreo Original Vanilla Creme Biscuit - Jumbo Pack',\n",
       "  'Grofers Happy Day Sweet & Salty Biscuit',\n",
       "  'Parle Monaco Cheeslings Classic Biscuit (Jar)',\n",
       "  'Oreo Strawberry Creme Biscuit - Pack of 3',\n",
       "  'Parle Platina Hide & Seek Black Bourbon Choco Biscuit',\n",
       "  'Oreo Original Vanilla Creme Biscuit - Pack of 3',\n",
       "  'Grofers Happy Day Sweet & Salty Biscuit - Pack of 2',\n",
       "  'Parle Platina Hide & Seek Black Bourbon Vanilla 100 g Biscuit',\n",
       "  'Parle Platina Hide & Seek Black Bourbon Vanilla 300 g Biscuit',\n",
       "  'Dukes Cream 4 Fun Chocolate Biscuit - Buy 1 Get 1 Free',\n",
       "  'Cadbury Chocobakes Choc Filled (Biscuits) Cookie - Family Pack',\n",
       "  'Sunfeast Dark Fantasy Biscuit - Choco Fills Cookie']}"
      ]
     },
     "metadata": {},
     "execution_count": 14
    }
   ],
   "metadata": {}
  },
  {
   "cell_type": "code",
   "execution_count": 15,
   "source": [
    "p_prices = results['Price']\r\n",
    "print(p_prices)"
   ],
   "outputs": [
    {
     "output_type": "stream",
     "name": "stdout",
     "text": [
      "['₹59', '₹40', '₹45', '₹60', '₹75', '₹20', '₹54', '₹60', '₹48', '₹80', '₹96', '₹54', '₹51', '₹59', '₹144', '₹113', '₹81', '₹27', '₹58', '₹29', '₹30', '₹30', '₹21', '₹138', '₹71', '₹100', '₹45', '₹21', '₹96', '₹54', '₹50', '₹85', '₹30', '₹54', '₹21', '₹83', '₹91', '₹21', '₹120', '₹83', '₹75', '₹83', '₹39', '₹30', '₹75', '₹30', '₹48', '₹100']\n"
     ]
    }
   ],
   "metadata": {}
  },
  {
   "cell_type": "code",
   "execution_count": 16,
   "source": [
    "p_name = results['Title']\r\n",
    "print(p_name)"
   ],
   "outputs": [
    {
     "output_type": "stream",
     "name": "stdout",
     "text": [
      "['Cadbury Oreo Vanilla Creme Family Pack Biscuit', 'Britannia Nice Time Coconut Biscuit - Pack of 2', 'Parle Marie Biscuit - Pack of 2', 'Dukes Bourbon Biscuit - Buy 2 Get 2 Free', 'Parle-G Original Gluco Biscuit', 'Britannia Milk Bikis Biscuit', 'Sunfeast Bounce Tangy Orange Biscuit - Pack of 6', 'Britannia Treat Jim Jam Biscuit - Pack of 2', 'Britannia Bourbon The Original Biscuit - Pack of 2', 'Britannia Bourbon The Original Biscuit - Buy 4 Get 1 Free - Brand Offer', 'Parle Monaco Classic Regular Biscuit', 'Parle Krackjack Original Sweet & Salty Biscuit', 'Britannia Milk Bikis Biscuit (Pouch)', 'Cadbury Oreo Choco Creme Family Pack Biscuit', 'Britannia NutriChoice Digestive High Fibre Biscuit - 1Kg Super Saver Family pack', 'Parle-G Gold Glucose 1 kg Biscuit', 'Britannia Milk Bikis Milk Cream Biscuit - Pack of 2', \"McVitie's Digestive Biscuit - Pack of 2\", 'Britannia Marie Gold Biscuit - Pack of 2', 'Sunfeast Dark Fantasy Choco Creme Biscuit (Pouch)', 'Oreo Strawberry Creme Biscuit', 'Oreo Original Vanilla Creme Biscuit', 'Dukes Bourbon Biscuit', \"McVitie's Digestive Biscuit\", 'Britannia Pure Magic Chocolush Cookies- Choco filled Biscuit', 'Britannia Treat Jim Jam Biscuit - Buy 4 Get 1 Free - Brand Offer', 'Sunfeast Marie Light Active Biscuit - Pack of 2', 'Dukes Creme 4 Fun Orange Biscuit', 'Britannia Marie Gold Biscuit', 'Sunfeast Bounce Tasty Choco Creme Biscuit - Pack of 6', 'Sunfeast Dark Fantasy Vanilla Creme Biscuit (Pouch)', 'Sunfeast Marie Light Active Biscuit', 'Oreo Choco Creme Biscuit', 'Sunfeast Bourbon Bliss Biscuit - Pack of 2', 'Dukes Cream 4 Fun Chocolate Biscuit', 'Oreo Choco Creme Biscuit - Pack of 3', 'Cadbury Oreo Original Vanilla Creme Biscuit - Jumbo Pack', 'Grofers Happy Day Sweet & Salty Biscuit', 'Parle Monaco Cheeslings Classic Biscuit (Jar)', 'Oreo Strawberry Creme Biscuit - Pack of 3', 'Parle Platina Hide & Seek Black Bourbon Choco Biscuit', 'Oreo Original Vanilla Creme Biscuit - Pack of 3', 'Grofers Happy Day Sweet & Salty Biscuit - Pack of 2', 'Parle Platina Hide & Seek Black Bourbon Vanilla 100 g Biscuit', 'Parle Platina Hide & Seek Black Bourbon Vanilla 300 g Biscuit', 'Dukes Cream 4 Fun Chocolate Biscuit - Buy 1 Get 1 Free', 'Cadbury Chocobakes Choc Filled (Biscuits) Cookie - Family Pack', 'Sunfeast Dark Fantasy Biscuit - Choco Fills Cookie']\n"
     ]
    }
   ],
   "metadata": {}
  },
  {
   "cell_type": "code",
   "execution_count": 17,
   "source": [
    "dict = {'Name': p_name, 'Price': p_prices}"
   ],
   "outputs": [],
   "metadata": {}
  },
  {
   "cell_type": "code",
   "execution_count": 18,
   "source": [
    "df = pd.DataFrame(dict) \r\n",
    "    \r\n",
    "# saving the dataframe \r\n",
    "df.to_csv('Grofers.csv') "
   ],
   "outputs": [],
   "metadata": {}
  },
  {
   "cell_type": "code",
   "execution_count": null,
   "source": [],
   "outputs": [],
   "metadata": {}
  }
 ],
 "metadata": {
  "kernelspec": {
   "name": "python3",
   "display_name": "Python 3.8.5 64-bit"
  },
  "language_info": {
   "codemirror_mode": {
    "name": "ipython",
    "version": 3
   },
   "file_extension": ".py",
   "mimetype": "text/x-python",
   "name": "python",
   "nbconvert_exporter": "python",
   "pygments_lexer": "ipython3",
   "version": "3.8.5"
  },
  "interpreter": {
   "hash": "5d97ad4eda96f4e0dcd5ae4f97368654619500468c6147550d2a1b2a1881f9a5"
  }
 },
 "nbformat": 4,
 "nbformat_minor": 5
}